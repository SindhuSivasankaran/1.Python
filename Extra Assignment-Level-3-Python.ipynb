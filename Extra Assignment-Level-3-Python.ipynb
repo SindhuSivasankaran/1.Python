{
 "cells": [
  {
   "cell_type": "code",
   "execution_count": 5,
   "id": "f7c9b5df",
   "metadata": {},
   "outputs": [
    {
     "name": "stdout",
     "output_type": "stream",
     "text": [
      "10\n"
     ]
    }
   ],
   "source": [
    "# print 'CORRECT' if i == 10\n",
    "Num = int(input())"
   ]
  },
  {
   "cell_type": "code",
   "execution_count": 6,
   "id": "5d44b506",
   "metadata": {},
   "outputs": [
    {
     "name": "stdout",
     "output_type": "stream",
     "text": [
      "Value : 10\n",
      "Correct\n"
     ]
    }
   ],
   "source": [
    "print(\"Value :\",Num)\n",
    "if (Num == 10):\n",
    "    print(\"Correct\")"
   ]
  },
  {
   "cell_type": "code",
   "execution_count": 7,
   "id": "d0ac9fa5",
   "metadata": {},
   "outputs": [
    {
     "name": "stdout",
     "output_type": "stream",
     "text": [
      "HOPE@123\n"
     ]
    }
   ],
   "source": [
    "# Check the password, using if and else\n",
    "pswd = input()"
   ]
  },
  {
   "cell_type": "code",
   "execution_count": 10,
   "id": "0d8db295",
   "metadata": {},
   "outputs": [
    {
     "name": "stdout",
     "output_type": "stream",
     "text": [
      "Enter the password : HOPE@123\n",
      "Your password is correct\n"
     ]
    }
   ],
   "source": [
    "print(\"Enter the password :\",pswd)\n",
    "if (pswd == \"HOPE@123\"):\n",
    "    print(\"Your password is correct\")"
   ]
  },
  {
   "cell_type": "code",
   "execution_count": 12,
   "id": "d533a6a0",
   "metadata": {},
   "outputs": [
    {
     "name": "stdout",
     "output_type": "stream",
     "text": [
      "30\n"
     ]
    }
   ],
   "source": [
    "# Catagory the people by their age like children, adult, citizen, senior citizen..\n",
    "age = int(input())"
   ]
  },
  {
   "cell_type": "code",
   "execution_count": 14,
   "id": "625d1dc2",
   "metadata": {},
   "outputs": [
    {
     "name": "stdout",
     "output_type": "stream",
     "text": [
      "age : 30\n",
      "Adult\n"
     ]
    }
   ],
   "source": [
    "print(\"age :\", age)\n",
    "if (age <18):\n",
    "    print(\"Childern\")\n",
    "elif (age>=18 and age<=30):\n",
    "    print(\"Adult\")\n",
    "elif (age>=31 and age<=60):\n",
    "    print(\"Citizen\")\n",
    "elif (age>=61):\n",
    "    print(\"Senior Citizen\")"
   ]
  },
  {
   "cell_type": "code",
   "execution_count": 16,
   "id": "8d103f5d",
   "metadata": {},
   "outputs": [
    {
     "name": "stdout",
     "output_type": "stream",
     "text": [
      "1\n"
     ]
    }
   ],
   "source": [
    "# Find whether given number is positive or negative\n",
    "num = int(input())"
   ]
  },
  {
   "cell_type": "code",
   "execution_count": 17,
   "id": "f2a403ee",
   "metadata": {},
   "outputs": [
    {
     "name": "stdout",
     "output_type": "stream",
     "text": [
      "Enter any number :  1\n",
      "No is positive\n"
     ]
    }
   ],
   "source": [
    "print(\"Enter any number : \", num)\n",
    "if (num >=0):\n",
    "    print(\"No is positive\")\n",
    "else:\n",
    "    print(\"No is negative\")"
   ]
  },
  {
   "cell_type": "code",
   "execution_count": 18,
   "id": "d1f56744",
   "metadata": {},
   "outputs": [
    {
     "name": "stdout",
     "output_type": "stream",
     "text": [
      "22\n"
     ]
    }
   ],
   "source": [
    "# Check whether the given number is divisible by 5\n",
    "numDiv = int(input())"
   ]
  },
  {
   "cell_type": "code",
   "execution_count": 19,
   "id": "3738b51b",
   "metadata": {},
   "outputs": [
    {
     "name": "stdout",
     "output_type": "stream",
     "text": [
      "Enter a number to check :  22\n",
      "No is not divisible by 5\n"
     ]
    }
   ],
   "source": [
    "print(\"Enter a number to check : \", numDiv)\n",
    "if (numDiv%5 == 0):\n",
    "    print(\"No is divisible by 5\")\n",
    "else:k\n",
    "    print(\"No is not divisible by 5\")"
   ]
  }
 ],
 "metadata": {
  "kernelspec": {
   "display_name": "Python 3 (ipykernel)",
   "language": "python",
   "name": "python3"
  },
  "language_info": {
   "codemirror_mode": {
    "name": "ipython",
    "version": 3
   },
   "file_extension": ".py",
   "mimetype": "text/x-python",
   "name": "python",
   "nbconvert_exporter": "python",
   "pygments_lexer": "ipython3",
   "version": "3.9.13"
  }
 },
 "nbformat": 4,
 "nbformat_minor": 5
}
