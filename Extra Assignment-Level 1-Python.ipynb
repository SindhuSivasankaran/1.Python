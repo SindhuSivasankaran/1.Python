{
 "cells": [
  {
   "cell_type": "code",
   "execution_count": 1,
   "id": "92eb92e1",
   "metadata": {},
   "outputs": [
    {
     "name": "stdout",
     "output_type": "stream",
     "text": [
      "HOPE AI\n"
     ]
    }
   ],
   "source": [
    "#print\n",
    "print(\"HOPE AI\")"
   ]
  },
  {
   "cell_type": "code",
   "execution_count": 2,
   "id": "b67cd332",
   "metadata": {},
   "outputs": [
    {
     "name": "stdout",
     "output_type": "stream",
     "text": [
      "HOPE AI\n"
     ]
    }
   ],
   "source": [
    "instName = input()"
   ]
  },
  {
   "cell_type": "code",
   "execution_count": 3,
   "id": "4bd36b5a",
   "metadata": {},
   "outputs": [
    {
     "name": "stdout",
     "output_type": "stream",
     "text": [
      "Enter your institute name? :  HOPE AI\n"
     ]
    }
   ],
   "source": [
    "print(\"Enter your institute name? : \",instName)"
   ]
  },
  {
   "cell_type": "code",
   "execution_count": 4,
   "id": "69ef7686",
   "metadata": {},
   "outputs": [
    {
     "name": "stdout",
     "output_type": "stream",
     "text": [
      "Raj\n",
      "15\n",
      "Guru School\n",
      "B.E CSE\n"
     ]
    }
   ],
   "source": [
    "name = input()\n",
    "age= input()\n",
    "schoolname= input()\n",
    "degree = input()"
   ]
  },
  {
   "cell_type": "code",
   "execution_count": 5,
   "id": "7fad8fe4",
   "metadata": {},
   "outputs": [
    {
     "name": "stdout",
     "output_type": "stream",
     "text": [
      "Enter your name:  Raj\n",
      "Enter your age:  15\n",
      "Enter your school name:  Guru School\n",
      "Enter your degree:  B.E CSE\n"
     ]
    }
   ],
   "source": [
    "print(\"Enter your name: \", name)\n",
    "print(\"Enter your age: \", age)\n",
    "print(\"Enter your school name: \", schoolname)\n",
    "print(\"Enter your degree: \", degree)"
   ]
  },
  {
   "cell_type": "code",
   "execution_count": 6,
   "id": "36890254",
   "metadata": {},
   "outputs": [
    {
     "name": "stdout",
     "output_type": "stream",
     "text": [
      "43\n",
      "34\n"
     ]
    }
   ],
   "source": [
    "#Addition\n",
    "a = int(input())\n",
    "b = int(input())\n",
    "add = a+b"
   ]
  },
  {
   "cell_type": "code",
   "execution_count": 7,
   "id": "61e8db20",
   "metadata": {},
   "outputs": [
    {
     "name": "stdout",
     "output_type": "stream",
     "text": [
      "a =  43\n",
      "b =  34\n",
      "add =  77\n"
     ]
    }
   ],
   "source": [
    "print(\"a = \", a)\n",
    "print(\"b = \", b)\n",
    "print(\"add = \",add)"
   ]
  },
  {
   "cell_type": "code",
   "execution_count": 8,
   "id": "a38523fa",
   "metadata": {},
   "outputs": [
    {
     "name": "stdout",
     "output_type": "stream",
     "text": [
      "a =  43\n",
      "b =  34\n",
      "sub =  9\n"
     ]
    }
   ],
   "source": [
    "#Subtraction\n",
    "print(\"a = \", a)\n",
    "print(\"b = \", b)\n",
    "print(\"sub = \",a-b)"
   ]
  },
  {
   "cell_type": "code",
   "execution_count": 9,
   "id": "aae087a8",
   "metadata": {},
   "outputs": [
    {
     "name": "stdout",
     "output_type": "stream",
     "text": [
      "63\n",
      "97\n"
     ]
    }
   ],
   "source": [
    "a = int(input())\n",
    "b = int(input())"
   ]
  },
  {
   "cell_type": "code",
   "execution_count": 10,
   "id": "1f224f5d",
   "metadata": {},
   "outputs": [
    {
     "name": "stdout",
     "output_type": "stream",
     "text": [
      "a =  63\n",
      "b =  97\n",
      "mul =  6111\n"
     ]
    }
   ],
   "source": [
    "#multiplication\n",
    "print(\"a = \", a)\n",
    "print(\"b = \", b)\n",
    "print(\"mul = \",a*b)"
   ]
  },
  {
   "cell_type": "code",
   "execution_count": 11,
   "id": "88be0e4b",
   "metadata": {},
   "outputs": [
    {
     "name": "stdout",
     "output_type": "stream",
     "text": [
      "76\n",
      "31\n"
     ]
    }
   ],
   "source": [
    "a = int(input())\n",
    "b = int(input())"
   ]
  },
  {
   "cell_type": "code",
   "execution_count": 12,
   "id": "5788cde6",
   "metadata": {},
   "outputs": [
    {
     "name": "stdout",
     "output_type": "stream",
     "text": [
      "a =  76\n",
      "b =  31\n",
      "Float Div =  2.4516129032258065\n"
     ]
    }
   ],
   "source": [
    "#Division\n",
    "print(\"a = \", a)\n",
    "print(\"b = \", b)\n",
    "print(\"Float Div = \",a/b)"
   ]
  },
  {
   "cell_type": "code",
   "execution_count": 13,
   "id": "d612ceaf",
   "metadata": {},
   "outputs": [
    {
     "name": "stdout",
     "output_type": "stream",
     "text": [
      "a =  76\n",
      "b =  31\n",
      "Floor Div =  2\n"
     ]
    }
   ],
   "source": [
    "#FloorDivision\n",
    "print(\"a = \", a)\n",
    "print(\"b = \", b)\n",
    "print(\"Floor Div = \",a//b)"
   ]
  },
  {
   "cell_type": "code",
   "execution_count": 14,
   "id": "60e7cfc5",
   "metadata": {},
   "outputs": [
    {
     "name": "stdout",
     "output_type": "stream",
     "text": [
      "a =  76\n",
      "b =  31\n",
      "Modulo =  14\n"
     ]
    }
   ],
   "source": [
    "#Modulo\n",
    "print(\"a = \", a)\n",
    "print(\"b = \", b)\n",
    "print(\"Modulo = \",a%b)"
   ]
  },
  {
   "cell_type": "code",
   "execution_count": 15,
   "id": "b29caf11",
   "metadata": {},
   "outputs": [
    {
     "name": "stdout",
     "output_type": "stream",
     "text": [
      "4\n",
      "4\n"
     ]
    }
   ],
   "source": [
    "a = int(input())\n",
    "b = int(input())"
   ]
  },
  {
   "cell_type": "code",
   "execution_count": 16,
   "id": "05ed2ac8",
   "metadata": {},
   "outputs": [
    {
     "name": "stdout",
     "output_type": "stream",
     "text": [
      "a =  4\n",
      "b =  4\n",
      "Modulo =  256\n"
     ]
    }
   ],
   "source": [
    "#Power\n",
    "print(\"a = \", a)\n",
    "print(\"b = \", b)\n",
    "print(\"Modulo = \",a**b)"
   ]
  }
 ],
 "metadata": {
  "kernelspec": {
   "display_name": "Python 3 (ipykernel)",
   "language": "python",
   "name": "python3"
  },
  "language_info": {
   "codemirror_mode": {
    "name": "ipython",
    "version": 3
   },
   "file_extension": ".py",
   "mimetype": "text/x-python",
   "name": "python",
   "nbconvert_exporter": "python",
   "pygments_lexer": "ipython3",
   "version": "3.9.13"
  }
 },
 "nbformat": 4,
 "nbformat_minor": 5
}
