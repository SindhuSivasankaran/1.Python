{
 "cells": [
  {
   "cell_type": "code",
   "execution_count": 2,
   "id": "a5dc44dc",
   "metadata": {},
   "outputs": [],
   "source": [
    "num1 = 10\n",
    "num2 =20\n",
    "add=num1+num2"
   ]
  },
  {
   "cell_type": "code",
   "execution_count": 3,
   "id": "856671ee",
   "metadata": {},
   "outputs": [
    {
     "name": "stdout",
     "output_type": "stream",
     "text": [
      "add\n",
      "30\n"
     ]
    }
   ],
   "source": [
    "print(\"add\")\n",
    "print(add)"
   ]
  },
  {
   "cell_type": "code",
   "execution_count": 4,
   "id": "2269292a",
   "metadata": {},
   "outputs": [
    {
     "ename": "SyntaxError",
     "evalue": "invalid syntax (847104653.py, line 1)",
     "output_type": "error",
     "traceback": [
      "\u001b[1;36m  File \u001b[1;32m\"C:\\Users\\SPLPT766\\AppData\\Local\\Temp\\ipykernel_10920\\847104653.py\"\u001b[1;36m, line \u001b[1;32m1\u001b[0m\n\u001b[1;33m    First Name =\"Sindhu\"\u001b[0m\n\u001b[1;37m          ^\u001b[0m\n\u001b[1;31mSyntaxError\u001b[0m\u001b[1;31m:\u001b[0m invalid syntax\n"
     ]
    }
   ],
   "source": [
    "First Name =\"Sindhu\""
   ]
  },
  {
   "cell_type": "code",
   "execution_count": 5,
   "id": "9c194b26",
   "metadata": {},
   "outputs": [],
   "source": [
    "firstName =\"Sindhu\""
   ]
  },
  {
   "cell_type": "code",
   "execution_count": 6,
   "id": "3ca1e032",
   "metadata": {},
   "outputs": [
    {
     "ename": "SyntaxError",
     "evalue": "invalid syntax (3756704870.py, line 1)",
     "output_type": "error",
     "traceback": [
      "\u001b[1;36m  File \u001b[1;32m\"C:\\Users\\SPLPT766\\AppData\\Local\\Temp\\ipykernel_10920\\3756704870.py\"\u001b[1;36m, line \u001b[1;32m1\u001b[0m\n\u001b[1;33m    4f =\"hi\"\u001b[0m\n\u001b[1;37m     ^\u001b[0m\n\u001b[1;31mSyntaxError\u001b[0m\u001b[1;31m:\u001b[0m invalid syntax\n"
     ]
    }
   ],
   "source": [
    "4f =\"hi\""
   ]
  },
  {
   "cell_type": "code",
   "execution_count": 7,
   "id": "e8162446",
   "metadata": {},
   "outputs": [],
   "source": [
    "f4=\"hi\""
   ]
  },
  {
   "cell_type": "code",
   "execution_count": 10,
   "id": "91a63149",
   "metadata": {},
   "outputs": [
    {
     "name": "stdout",
     "output_type": "stream",
     "text": [
      "Addition of 2 No's\n",
      "Number 1 10\n",
      "Number 2 10\n",
      "The Answer is 20\n"
     ]
    }
   ],
   "source": [
    "print(\"Addition of 2 No's\")\n",
    "Num1 =10\n",
    "print(\"Number 1\", Num1)\n",
    "Num2 =10\n",
    "print(\"Number 2\", Num2)\n",
    "print(\"The Answer is\", Num1+Num2)"
   ]
  },
  {
   "cell_type": "code",
   "execution_count": 16,
   "id": "618e82f6",
   "metadata": {},
   "outputs": [
    {
     "name": "stdout",
     "output_type": "stream",
     "text": [
      "Enter The Num1 : 10\n"
     ]
    }
   ],
   "source": [
    "Num1 =int(input(\"Enter The Num1 : \"))"
   ]
  },
  {
   "cell_type": "code",
   "execution_count": 17,
   "id": "c010ae03",
   "metadata": {},
   "outputs": [
    {
     "name": "stdout",
     "output_type": "stream",
     "text": [
      "Enter The Num2 : 20\n"
     ]
    }
   ],
   "source": [
    "Num2 = int(input(\"Enter The Num2 : \"))"
   ]
  },
  {
   "cell_type": "code",
   "execution_count": 18,
   "id": "1c8ae732",
   "metadata": {},
   "outputs": [
    {
     "name": "stdout",
     "output_type": "stream",
     "text": [
      "30\n"
     ]
    }
   ],
   "source": [
    "add = Num1+Num2\n",
    "print(add)"
   ]
  },
  {
   "cell_type": "code",
   "execution_count": 19,
   "id": "a3a10b59",
   "metadata": {},
   "outputs": [
    {
     "ename": "NameError",
     "evalue": "name 'mul' is not defined",
     "output_type": "error",
     "traceback": [
      "\u001b[1;31m---------------------------------------------------------------------------\u001b[0m",
      "\u001b[1;31mNameError\u001b[0m                                 Traceback (most recent call last)",
      "\u001b[1;32m~\\AppData\\Local\\Temp\\ipykernel_10920\\3482931487.py\u001b[0m in \u001b[0;36m<module>\u001b[1;34m\u001b[0m\n\u001b[1;32m----> 1\u001b[1;33m \u001b[0mprint\u001b[0m\u001b[1;33m(\u001b[0m\u001b[0mmul\u001b[0m\u001b[1;33m)\u001b[0m\u001b[1;33m\u001b[0m\u001b[1;33m\u001b[0m\u001b[0m\n\u001b[0m",
      "\u001b[1;31mNameError\u001b[0m: name 'mul' is not defined"
     ]
    }
   ],
   "source": [
    "print(mul)"
   ]
  },
  {
   "cell_type": "code",
   "execution_count": null,
   "id": "5ab68f84",
   "metadata": {},
   "outputs": [],
   "source": []
  }
 ],
 "metadata": {
  "kernelspec": {
   "display_name": "Python 3 (ipykernel)",
   "language": "python",
   "name": "python3"
  },
  "language_info": {
   "codemirror_mode": {
    "name": "ipython",
    "version": 3
   },
   "file_extension": ".py",
   "mimetype": "text/x-python",
   "name": "python",
   "nbconvert_exporter": "python",
   "pygments_lexer": "ipython3",
   "version": "3.9.13"
  }
 },
 "nbformat": 4,
 "nbformat_minor": 5
}
