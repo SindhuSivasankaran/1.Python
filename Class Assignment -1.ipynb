{
 "cells": [
  {
   "cell_type": "code",
   "execution_count": 1,
   "id": "d660b8e5",
   "metadata": {},
   "outputs": [],
   "source": [
    "#Create a class and function and list out the items in the list\n",
    "from SubFieldsInAI import SubFieldsInAI"
   ]
  },
  {
   "cell_type": "code",
   "execution_count": 2,
   "id": "48232d80",
   "metadata": {},
   "outputs": [
    {
     "name": "stdout",
     "output_type": "stream",
     "text": [
      "Sub-fields in AI are:\n",
      "Machine Learning\n",
      "Neural Networks\n",
      "Vision\n",
      "Robotics\n",
      "Speech Processing\n",
      "Natural Language Processing\n"
     ]
    }
   ],
   "source": [
    "SubFieldsInAI.Subfields()"
   ]
  },
  {
   "cell_type": "code",
   "execution_count": 6,
   "id": "7477a5e6",
   "metadata": {},
   "outputs": [],
   "source": [
    "#Create a class and function to check a number is odd or even\n",
    "from OddEvenFunc import OddOrEven"
   ]
  },
  {
   "cell_type": "code",
   "execution_count": 7,
   "id": "0fef4dc8",
   "metadata": {},
   "outputs": [
    {
     "name": "stdout",
     "output_type": "stream",
     "text": [
      "Enter a number: 5\n",
      "5  is Odd number\n"
     ]
    }
   ],
   "source": [
    "OddOrEven.OddEven()"
   ]
  },
  {
   "cell_type": "code",
   "execution_count": 10,
   "id": "23364970",
   "metadata": {},
   "outputs": [],
   "source": [
    "#Marriage eligiblity function\n",
    "from MarriageEligiblityFunc import MarriageEligibility"
   ]
  },
  {
   "cell_type": "code",
   "execution_count": 12,
   "id": "0adbd3df",
   "metadata": {},
   "outputs": [
    {
     "name": "stdout",
     "output_type": "stream",
     "text": [
      "Your Gender: Male\n",
      "Your age: 20\n",
      "NOT ELIGIBLE\n"
     ]
    }
   ],
   "source": [
    "MarriageEligibility.Eligible()"
   ]
  },
  {
   "cell_type": "code",
   "execution_count": 13,
   "id": "8ad9937a",
   "metadata": {},
   "outputs": [],
   "source": [
    "#Function to calculate 10th Mark\n",
    "from MarksCalculation import SSLCMarkCalc"
   ]
  },
  {
   "cell_type": "code",
   "execution_count": 14,
   "id": "72aaede4",
   "metadata": {},
   "outputs": [
    {
     "name": "stdout",
     "output_type": "stream",
     "text": [
      "Subject 1 = 98\n",
      "Subject 2 = 87\n",
      "Subject 3 = 95\n",
      "Subject 4 = 95\n",
      "Subject 5 = 93\n",
      "Total :  468\n",
      "Percentage :  93.6\n"
     ]
    }
   ],
   "source": [
    "SSLCMarkCalc.Marks()"
   ]
  },
  {
   "cell_type": "code",
   "execution_count": 15,
   "id": "1559d720",
   "metadata": {},
   "outputs": [],
   "source": [
    "#Print area and perimeter of a triangle\n",
    "from TriangleCalc import Triangle"
   ]
  },
  {
   "cell_type": "code",
   "execution_count": 16,
   "id": "58eb1456",
   "metadata": {},
   "outputs": [
    {
     "name": "stdout",
     "output_type": "stream",
     "text": [
      "Height : 32\n",
      "Breadth : 34\n",
      "Area Formula : (Height*Breadth)/2\n",
      "Area of Traingle:  544.0\n",
      "Height1 : 2\n",
      "Height2 : 4\n",
      "Breadth : 4\n",
      "Perimeter Formula : Height1+Height2+Breadth\n",
      "Perimeter of Traingle:  10\n"
     ]
    }
   ],
   "source": [
    "Triangle.triangle()"
   ]
  }
 ],
 "metadata": {
  "kernelspec": {
   "display_name": "Python 3 (ipykernel)",
   "language": "python",
   "name": "python3"
  },
  "language_info": {
   "codemirror_mode": {
    "name": "ipython",
    "version": 3
   },
   "file_extension": ".py",
   "mimetype": "text/x-python",
   "name": "python",
   "nbconvert_exporter": "python",
   "pygments_lexer": "ipython3",
   "version": "3.9.13"
  }
 },
 "nbformat": 4,
 "nbformat_minor": 5
}
