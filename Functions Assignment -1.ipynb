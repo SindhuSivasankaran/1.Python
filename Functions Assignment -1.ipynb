{
 "cells": [
  {
   "cell_type": "code",
   "execution_count": 21,
   "id": "b2cc3fc1",
   "metadata": {},
   "outputs": [],
   "source": [
    "#Create Function\n",
    "def Subfields():\n",
    "    fields = ['Machine Learning','Neural Networks','Vision','Robotics','Speech Processing','Natural Language Processing']\n",
    "    print(\"Sub-fields in AI are:\")\n",
    "    for field in fields:\n",
    "        print(field)"
   ]
  },
  {
   "cell_type": "code",
   "execution_count": 22,
   "id": "3cdb44b3",
   "metadata": {},
   "outputs": [
    {
     "name": "stdout",
     "output_type": "stream",
     "text": [
      "Sub-fields in AI are:\n",
      "Machine Learning\n",
      "Neural Networks\n",
      "Vision\n",
      "Robotics\n",
      "Speech Processing\n",
      "Natural Language Processing\n"
     ]
    }
   ],
   "source": [
    "Subfields()"
   ]
  },
  {
   "cell_type": "code",
   "execution_count": 3,
   "id": "1ab0efd7",
   "metadata": {},
   "outputs": [],
   "source": [
    "#Create Function OddorEven\n",
    "def OddEven():\n",
    "    num = int(input(\"Enter a number: \"))\n",
    "    if (num%2 ==0):\n",
    "        print(num,\" is Even number\")\n",
    "    else:\n",
    "        print(num,\" is Odd number\")"
   ]
  },
  {
   "cell_type": "code",
   "execution_count": 4,
   "id": "ede0f12f",
   "metadata": {},
   "outputs": [
    {
     "name": "stdout",
     "output_type": "stream",
     "text": [
      "Enter a number: 4\n",
      "4  is Even number\n"
     ]
    }
   ],
   "source": [
    "OddEven()"
   ]
  },
  {
   "cell_type": "code",
   "execution_count": 10,
   "id": "f7fc5a8f",
   "metadata": {},
   "outputs": [],
   "source": [
    "#Create Function to check marriage eligibility\n",
    "def Eligible():\n",
    "    gender = input(\"Your Gender: \")\n",
    "    age = int(input(\"Your age: \"))\n",
    "    if (gender.upper() == \"MALE\" and age >=21) or (gender.upper() == \"FEMALE\" and age >=18):\n",
    "        print(\"ELIGIBLE\")\n",
    "    else:\n",
    "        print(\"NOT ELIGIBLE\")"
   ]
  },
  {
   "cell_type": "code",
   "execution_count": 11,
   "id": "65d6ee39",
   "metadata": {},
   "outputs": [
    {
     "name": "stdout",
     "output_type": "stream",
     "text": [
      "Your Gender: male\n",
      "Your age: 18\n",
      "NOT ELIGIBLE\n"
     ]
    }
   ],
   "source": [
    "Eligible()"
   ]
  },
  {
   "cell_type": "code",
   "execution_count": 16,
   "id": "e57dbce1",
   "metadata": {},
   "outputs": [],
   "source": [
    "#Create Fucntion to check Total and % of marks\n",
    "def Marks():\n",
    "    sub1 = int(input(\"Subject 1 = \"))\n",
    "    sub2 = int(input(\"Subject 2 = \"))\n",
    "    sub3 = int(input(\"Subject 3 = \"))\n",
    "    sub4 = int(input(\"Subject 4 = \"))\n",
    "    sub5 = int(input(\"Subject 5 = \"))\n",
    "    total = sub1+sub2+sub3+sub4+sub5\n",
    "    percentage = total/5\n",
    "    print(\"Total : \",total)\n",
    "    print(\"Percentage : \",percentage)"
   ]
  },
  {
   "cell_type": "code",
   "execution_count": 17,
   "id": "51ff5a0c",
   "metadata": {},
   "outputs": [
    {
     "name": "stdout",
     "output_type": "stream",
     "text": [
      "Subject 1 = 23\n",
      "Subject 2 = 45\n",
      "Subject 3 = 34\n",
      "Subject 4 = 23\n",
      "Subject 5 = 23\n",
      "Total :  148\n",
      "Percentage :  29.6\n"
     ]
    }
   ],
   "source": [
    "Marks()"
   ]
  },
  {
   "cell_type": "code",
   "execution_count": 19,
   "id": "7c3ef7f5",
   "metadata": {},
   "outputs": [],
   "source": [
    "#Create Function to Find Area and Perimeter of a Triange\n",
    "def triangle():\n",
    "    Height = int(input(\"Height : \"))\n",
    "    Breadth = int(input(\"Breadth : \"))\n",
    "    print(\"Area Formula : (Height*Breadth)/2\")\n",
    "    AreaofTraingle = (Height*Breadth)/2\n",
    "    print(\"Area of Traingle: \",AreaofTraingle)\n",
    "    Height1 = int(input(\"Height1 : \"))\n",
    "    Height2 = int(input(\"Height2 : \"))\n",
    "    Breadth = int(input(\"Breadth : \"))\n",
    "    print(\"Perimeter Formula : Height1+Height2+Breadth\")\n",
    "    perimeterofTraingle = Height1+Height2+Breadth\n",
    "    print(\"Perimeter of Traingle: \",perimeterofTraingle)\n",
    "    "
   ]
  },
  {
   "cell_type": "code",
   "execution_count": 20,
   "id": "b638f73a",
   "metadata": {},
   "outputs": [
    {
     "name": "stdout",
     "output_type": "stream",
     "text": [
      "Height : 3\n",
      "Breadth : 4\n",
      "Area Formula : (Height*Breadth)/2\n",
      "Area of Traingle:  6.0\n",
      "Height1 : 3\n",
      "Height2 : 4\n",
      "Breadth : 45\n",
      "Perimeter Formula : Height1+Height2+Breadth\n",
      "Perimeter of Traingle:  52\n"
     ]
    }
   ],
   "source": [
    "triangle()"
   ]
  }
 ],
 "metadata": {
  "kernelspec": {
   "display_name": "Python 3 (ipykernel)",
   "language": "python",
   "name": "python3"
  },
  "language_info": {
   "codemirror_mode": {
    "name": "ipython",
    "version": 3
   },
   "file_extension": ".py",
   "mimetype": "text/x-python",
   "name": "python",
   "nbconvert_exporter": "python",
   "pygments_lexer": "ipython3",
   "version": "3.9.13"
  }
 },
 "nbformat": 4,
 "nbformat_minor": 5
}
