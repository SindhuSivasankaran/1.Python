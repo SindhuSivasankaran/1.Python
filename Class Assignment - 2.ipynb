{
 "cells": [
  {
   "cell_type": "code",
   "execution_count": 2,
   "id": "b9616675",
   "metadata": {},
   "outputs": [],
   "source": [
    "from MultipleFunctions import MultipleFunctions"
   ]
  },
  {
   "cell_type": "code",
   "execution_count": 3,
   "id": "b841aa4e",
   "metadata": {},
   "outputs": [
    {
     "name": "stdout",
     "output_type": "stream",
     "text": [
      "Sub-fields in AI are:\n",
      "Machine Learning\n",
      "Neural Networks\n",
      "Vision\n",
      "Robotics\n",
      "Speech Processing\n",
      "Natural Language Processing\n"
     ]
    }
   ],
   "source": [
    "MultipleFunctions.Subfields()"
   ]
  },
  {
   "cell_type": "code",
   "execution_count": 4,
   "id": "51d53c99",
   "metadata": {},
   "outputs": [
    {
     "name": "stdout",
     "output_type": "stream",
     "text": [
      "Enter a number: 5\n",
      "5  is Odd number\n"
     ]
    }
   ],
   "source": [
    "MultipleFunctions.OddEven()"
   ]
  },
  {
   "cell_type": "code",
   "execution_count": 6,
   "id": "afa0b63e",
   "metadata": {},
   "outputs": [
    {
     "name": "stdout",
     "output_type": "stream",
     "text": [
      "Your Gender: female\n",
      "Your age: 33\n",
      "ELIGIBLE\n"
     ]
    }
   ],
   "source": [
    "MultipleFunctions.Eligible()"
   ]
  },
  {
   "cell_type": "code",
   "execution_count": 7,
   "id": "7f3c3dfc",
   "metadata": {},
   "outputs": [
    {
     "name": "stdout",
     "output_type": "stream",
     "text": [
      "Subject 1 = 98\n",
      "Subject 2 = 87\n",
      "Subject 3 = 95\n",
      "Subject 4 = 93\n",
      "Subject 5 = 93\n",
      "Total :  466\n",
      "Percentage :  93.2\n"
     ]
    }
   ],
   "source": [
    "MultipleFunctions.Marks()"
   ]
  },
  {
   "cell_type": "code",
   "execution_count": 8,
   "id": "55115079",
   "metadata": {},
   "outputs": [
    {
     "name": "stdout",
     "output_type": "stream",
     "text": [
      "Height : 32\n",
      "Breadth : 34\n",
      "Area Formula : (Height*Breadth)/2\n",
      "Area of Traingle:  544.0\n",
      "Height1 : 2\n",
      "Height2 : 4\n",
      "Breadth : 4\n",
      "Perimeter Formula : Height1+Height2+Breadth\n",
      "Perimeter of Traingle:  10\n"
     ]
    }
   ],
   "source": [
    "MultipleFunctions.triangle()"
   ]
  }
 ],
 "metadata": {
  "kernelspec": {
   "display_name": "Python 3 (ipykernel)",
   "language": "python",
   "name": "python3"
  },
  "language_info": {
   "codemirror_mode": {
    "name": "ipython",
    "version": 3
   },
   "file_extension": ".py",
   "mimetype": "text/x-python",
   "name": "python",
   "nbconvert_exporter": "python",
   "pygments_lexer": "ipython3",
   "version": "3.9.13"
  }
 },
 "nbformat": 4,
 "nbformat_minor": 5
}
